{
 "cells": [
  {
   "cell_type": "code",
   "execution_count": null,
   "metadata": {},
   "outputs": [],
   "source": [
    "import numpy as np\n",
    "\n",
    "def find_number(number):\n",
    "    \"\"\"Функция возращающая количество попыток поиска\"\"\"\n",
    "    number_list = [i for i in range(1,101)]         #Создаем список из 100 элементов\n",
    "    min_number = number_list[0]                     #Находим минимальное число\n",
    "    max_number = number_list[-1]                    #Находим максимальное число\n",
    "    count = 0                                       #Счетчик попыток\n",
    "    while min_number <= max_number:                 #Цикл - пока мин и макс элементы не совпадут\n",
    "        mid_number = (min_number+max_number)//2\n",
    "        count+=1\n",
    "        if mid_number > number:\n",
    "            max_number = mid_number-1\n",
    "        elif mid_number < number:\n",
    "            min_number = mid_number+1\n",
    "        else:\n",
    "            break\n",
    "    return count\n",
    "\n",
    "def score_game(game_core):\n",
    "    '''Запускаем игру 1000 раз, чтобы узнать, как быстро игра угадывает число'''\n",
    "    count_ls = []\n",
    "    np.random.seed(1)  # фиксируем RANDOM SEED, чтобы ваш эксперимент был воспроизводим!\n",
    "    random_array = np.random.randint(1,101, size=(1000))\n",
    "    for number in random_array:\n",
    "        count_ls.append(find_number(number))\n",
    "    score = int(np.mean(count_ls))\n",
    "    print(f\"Ваш алгоритм угадывает число в среднем за {score} попыток\")\n",
    "    return(score)\n",
    "\n",
    "score_game(find_number)    "
   ]
  }
 ],
 "metadata": {
  "kernelspec": {
   "display_name": "Python 3",
   "language": "python",
   "name": "python3"
  },
  "language_info": {
   "codemirror_mode": {
    "name": "ipython",
    "version": 3
   },
   "file_extension": ".py",
   "mimetype": "text/x-python",
   "name": "python",
   "nbconvert_exporter": "python",
   "pygments_lexer": "ipython3",
   "version": "3.7.6"
  }
 },
 "nbformat": 4,
 "nbformat_minor": 4
}
